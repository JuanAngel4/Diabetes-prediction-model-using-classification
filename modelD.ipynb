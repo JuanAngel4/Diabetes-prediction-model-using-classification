{
 "cells": [
  {
   "cell_type": "markdown",
   "id": "085f02b0",
   "metadata": {},
   "source": [
    "This code aims to predict diabetes using a univariate linear model (single input and output). It then compares the learned parameter w with those from a multivariate model to assess how closely they align.\n",
    "The dataset was foundin kaggle."
   ]
  },
  {
   "cell_type": "code",
   "execution_count": 1,
   "id": "1d073de4",
   "metadata": {},
   "outputs": [],
   "source": [
    "x=1"
   ]
  }
 ],
 "metadata": {
  "kernelspec": {
   "display_name": "Python 3",
   "language": "python",
   "name": "python3"
  },
  "language_info": {
   "codemirror_mode": {
    "name": "ipython",
    "version": 3
   },
   "file_extension": ".py",
   "mimetype": "text/x-python",
   "name": "python",
   "nbconvert_exporter": "python",
   "pygments_lexer": "ipython3",
   "version": "3.13.0"
  }
 },
 "nbformat": 4,
 "nbformat_minor": 5
}
